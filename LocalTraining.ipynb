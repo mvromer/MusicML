{
 "cells": [
  {
   "cell_type": "code",
   "execution_count": 1,
   "metadata": {},
   "outputs": [
    {
     "name": "stdout",
     "output_type": "stream",
     "text": [
      "Using GPU for training\n",
      "Processed 100 steps on epoch 1. Current average epoch loss: 5.8892.\n",
      "Processed 200 steps on epoch 1. Current average epoch loss: 5.0064.\n",
      "Processed 300 steps on epoch 1. Current average epoch loss: 4.702.\n",
      "Checkpointing after 360 steps on epoch 1. Current epoch loss for epoch: 1654.7. Current average epoch loss: 4.5965. Most recent loss: 3.9356.\n",
      "Processed 400 steps on epoch 1. Current average epoch loss: 4.5428.\n",
      "Processed 500 steps on epoch 1. Current average epoch loss: 4.4495.\n",
      "Processed 600 steps on epoch 1. Current average epoch loss: 4.3795.\n",
      "Processed 700 steps on epoch 1. Current average epoch loss: 4.3282.\n",
      "Checkpointing after 720 steps on epoch 1. Current epoch loss for epoch: 3110.4. Current average epoch loss: 4.32. Most recent loss: 3.9303.\n",
      "Processed 800 steps on epoch 1. Current average epoch loss: 4.2929.\n",
      "Processed 900 steps on epoch 1. Current average epoch loss: 4.2635.\n",
      "Completed epoch 1 with total epoch loss of 4105.8 and average epoch loss of 4.246. Checkpointing.\n",
      "Processed 100 steps on epoch 2. Current average epoch loss: 4.0177.\n",
      "Processed 200 steps on epoch 2. Current average epoch loss: 4.0194.\n",
      "Processed 300 steps on epoch 2. Current average epoch loss: 4.0182.\n",
      "Checkpointing after 357 steps on epoch 2. Current epoch loss for epoch: 1434.4. Current average epoch loss: 4.0179. Most recent loss: 3.7972.\n",
      "Processed 400 steps on epoch 2. Current average epoch loss: 4.0176.\n",
      "Processed 500 steps on epoch 2. Current average epoch loss: 4.0223.\n",
      "Processed 600 steps on epoch 2. Current average epoch loss: 4.0194.\n",
      "Processed 700 steps on epoch 2. Current average epoch loss: 4.0172.\n",
      "Checkpointing after 713 steps on epoch 2. Current epoch loss for epoch: 2864.1. Current average epoch loss: 4.017. Most recent loss: 4.282.\n",
      "Processed 800 steps on epoch 2. Current average epoch loss: 4.0189.\n",
      "Processed 900 steps on epoch 2. Current average epoch loss: 4.0187.\n",
      "Completed epoch 2 with total epoch loss of 3884.9 and average epoch loss of 4.017. Checkpointing.\n",
      "Processed 100 steps on epoch 3. Current average epoch loss: 4.0103.\n",
      "Processed 200 steps on epoch 3. Current average epoch loss: 4.0118.\n",
      "Processed 300 steps on epoch 3. Current average epoch loss: 4.0112.\n",
      "Checkpointing after 353 steps on epoch 3. Current epoch loss for epoch: 1416.2. Current average epoch loss: 4.0119. Most recent loss: 3.8649.\n",
      "Processed 400 steps on epoch 3. Current average epoch loss: 4.0113.\n",
      "Processed 500 steps on epoch 3. Current average epoch loss: 4.0164.\n",
      "Processed 600 steps on epoch 3. Current average epoch loss: 4.0139.\n",
      "Processed 700 steps on epoch 3. Current average epoch loss: 4.0121.\n",
      "Checkpointing after 704 steps on epoch 3. Current epoch loss for epoch: 2824.4. Current average epoch loss: 4.0119. Most recent loss: 3.854.\n",
      "Processed 800 steps on epoch 3. Current average epoch loss: 4.014.\n",
      "Processed 900 steps on epoch 3. Current average epoch loss: 4.0138.\n",
      "Completed epoch 3 with total epoch loss of 3880.3 and average epoch loss of 4.013. Checkpointing.\n",
      "Training complete after 2901 steps.\n"
     ]
    }
   ],
   "source": [
    "from musicml.train.common import run_standard_trainer\n",
    "from musicml.train import midimodel\n",
    "\n",
    "data_path = \"midimodel.pkl.bz2\"\n",
    "checkpoint_path = \"checkpoint.wt\"\n",
    "weights_path = None\n",
    "number_epochs = 3\n",
    "checkpoint_interval_sec = 120\n",
    "\n",
    "run_standard_trainer( data_path, checkpoint_path, midimodel.VocabularyLength, weights_path, number_epochs, checkpoint_interval_sec )"
   ]
  },
  {
   "cell_type": "code",
   "execution_count": null,
   "metadata": {},
   "outputs": [],
   "source": []
  }
 ],
 "metadata": {
  "kernelspec": {
   "display_name": "Python 3",
   "language": "python",
   "name": "python3"
  },
  "language_info": {
   "codemirror_mode": {
    "name": "ipython",
    "version": 3
   },
   "file_extension": ".py",
   "mimetype": "text/x-python",
   "name": "python",
   "nbconvert_exporter": "python",
   "pygments_lexer": "ipython3",
   "version": "3.7.4"
  }
 },
 "nbformat": 4,
 "nbformat_minor": 4
}
